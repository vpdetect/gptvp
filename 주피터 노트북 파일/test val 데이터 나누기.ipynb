{
 "cells": [
  {
   "cell_type": "markdown",
   "id": "c92230b5",
   "metadata": {},
   "source": [
    "# **주피터 노트북 설치된 절대경로에 보이스피싱 가능도파일을 복사한뒤 보이스 피싱가능도 분할 폴더를 생성바람**"
   ]
  },
  {
   "cell_type": "code",
   "execution_count": 4,
   "id": "aa556458",
   "metadata": {},
   "outputs": [
    {
     "name": "stderr",
     "output_type": "stream",
     "text": [
      "Copying files: 150 files [00:00, 962.65 files/s]\n"
     ]
    }
   ],
   "source": [
    "import splitfolders  # or import split_folders\n",
    "\n",
    "\n",
    "# type 2\n",
    "# train / test\n",
    "splitfolders.ratio(\"C:/Users/PC/보이스피싱 가능도\", output=\"C:/Users/PC/보이스 피싱가능도 분할\", seed=1244, ratio=(.545,.455))"
   ]
  }
 ],
 "metadata": {
  "kernelspec": {
   "display_name": "Python 3 (ipykernel)",
   "language": "python",
   "name": "python3"
  },
  "language_info": {
   "codemirror_mode": {
    "name": "ipython",
    "version": 3
   },
   "file_extension": ".py",
   "mimetype": "text/x-python",
   "name": "python",
   "nbconvert_exporter": "python",
   "pygments_lexer": "ipython3",
   "version": "3.9.16"
  }
 },
 "nbformat": 4,
 "nbformat_minor": 5
}
