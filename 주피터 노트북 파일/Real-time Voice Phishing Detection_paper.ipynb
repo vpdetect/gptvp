{
 "cells": [
  {
   "cell_type": "code",
   "execution_count": 1,
   "id": "8cc33132",
   "metadata": {},
   "outputs": [],
   "source": [
    "# 파이썬 시각화 패키지 불러오기\n",
    "import matplotlib.pyplot as plt\n",
    "from pandas import DataFrame\n",
    "import os,re\n",
    "import numpy as np\n",
    "import pandas as pd\n",
    "import seaborn as sns\n",
    "%matplotlib inline\n",
    "\n",
    "# 사용자 운영체제 확인\n",
    "import os\n",
    "os.name\n",
    "# 운영체제별 한글 폰트 설정\n",
    "if os.name == 'posix': # Mac 환경 폰트 설정\n",
    "    plt.rc('font', family='AppleGothic')\n",
    "elif os.name == 'nt': # Windows 환경 폰트 설정\n",
    "    plt.rc('font', family='Malgun Gothic')\n",
    "\n",
    "plt.rc('axes', unicode_minus=False) # 마이너스 폰트 설정\n",
    "\n",
    "# 글씨 선명하게 출력하는 설정\n",
    "%config InlineBackend.figure_format = 'retina'\n",
    "\n",
    "#Threshold 변수\n",
    "Threshold = 6\n",
    "\n",
    "#평균 변수\n",
    "avg = 0.2"
   ]
  },
  {
   "cell_type": "code",
   "execution_count": 2,
   "id": "8b73fac3",
   "metadata": {},
   "outputs": [],
   "source": [
    "#읽어온 txt파일에서 [,],A,:문자 제거 함수\n",
    "def clean_text(inputString):\n",
    "    text_rmv = re.sub('[A: \\n\"』‘|\\(\\)\\[\\]`\\'…》\\”\\“\\’·]', '', inputString)\n",
    "    make_list = text_rmv.split(',') # ,를 기준으로 리스트 분류\n",
    "    return make_list"
   ]
  },
  {
   "cell_type": "code",
   "execution_count": 3,
   "id": "a25ddec6",
   "metadata": {},
   "outputs": [],
   "source": [
    "# 그래프 만들기 위한 x, y좌표 값 생성 함수\n",
    "def data_graph(undefined_data):\n",
    "    make_list = clean_text(undefined_data)\n",
    "    y = make_list\n",
    "    x = []\n",
    "    num = 1\n",
    "    for i in range(len(y)):\n",
    "        #x_label = num * y\n",
    "        x.append(num * step)\n",
    "        num += 1\n",
    "    return x,y"
   ]
  },
  {
   "cell_type": "code",
   "execution_count": 4,
   "id": "e0f26689",
   "metadata": {
    "scrolled": true
   },
   "outputs": [
    {
     "name": "stdout",
     "output_type": "stream",
     "text": [
      "['01)은행연합회사칭_보안카드탈취시도_ATM기 앞으로 유도.txt', '02)시티캐피탈사칭.txt', '03)금감원 은행조사관 사칭 명의도용 사건.txt', '04)취업빙자 통장편취사기.txt', '05)입출금 가능한 계좌 임대 요청 (한달에 300만원).txt', '104)(피해자가 의심하자) 고객님께서 OO캐시에.txt', '109).txt', '11)이벤트행사 통장 한개당 300만원 제안.txt', '112).txt', '113).txt', '12)통장 임대 요청 (한달 임대료 250만원 드려요).txt', '120).txt', '126).txt', '13)신용관리 명목으로 비용을 요구.txt', '130).txt', '132).txt', '137).txt', '138).txt', '139).txt', '141).txt', '15)전산상 대출 가능조건을 만든다는 명목으로 선입금을 요구.txt', '155).txt', '161).txt', '165).txt', '17)구직사이트를 통해 대포통장을 개설하는 아르바이트 모집1.txt', '19)탈세를 명목으로 하여 통장을 양도하도록 유도.txt', '22)[대출빙자형 3] 은행을 사칭하면서 서민금융나들목 상품 명목의 대출을 안내.txt', '24)[대출빙자형 5] 사금융 대환대출 명목으로 피해자의 무통장입금 유도.txt', '26)[대출빙자형 7] 편법을 통해 피해자 신용평점을 상향시키기 위한 대출상환 요구-ⓑ.txt', '28)[대출빙자형 9] ARS로 대출안내를 신청한 피해자에게 대출상품을 안내해 줄 것처럼 속임.txt', '29)신한금융 사칭 대출권유.txt', '36)경매대행 업체를 사칭하여 대포통장 및 인출책 모집.txt', '40)음성안내에 대해 대출상담을 신청하자 시중은행을 사칭.txt', '50).txt', '51)기존 대출을 반환하시면 됩니다.txt', '56).txt', '61).txt', '66)대출을 위해서 신분증 사본과 3개월치 입출금 거래내역서를 보내주셔야 합니다.txt', '81).txt', '84)고객님께서 저희 OO캐피탈로부터 대출을 받는다는 녹취를 진행하도록 하겠습니다. 동 내용으로 인해 유출 등의 문제 발생시 금감원에 손해배상청구소송을 진행하실 수 있습니다.txt']\n"
     ]
    }
   ],
   "source": [
    "file_num = 0 #파일의 개수 확인\n",
    "#폴더 안에 있는 파일수 함수\n",
    "files = []\n",
    "#root = \"./openai-quickstart-python-master/대출사기형 저장 txt 0406\"\n",
    "root = \"./Real-time Voice Phishing Detection/VP_train\"\n",
    "file_name = []\n",
    "file_name = os.listdir(root) #파일 이름만 저장\n",
    "step = 100 #몇개의 문자로 나눴는지 확인 변수\n",
    "\n",
    "walk = [root]\n",
    "while walk:\n",
    "    folder = walk.pop(0)+\"/\"\n",
    "    items = os.listdir(folder) # items = folders + files\n",
    "    for i in items:\n",
    "        file_num = file_num +1\n",
    "        i=folder+i # 파일 경로와 파일이름 맵핑 리스트\n",
    "        (walk if os.path.isdir(i) else files).append(i)\n",
    "#print(files)\n",
    "print(file_name)"
   ]
  },
  {
   "cell_type": "code",
   "execution_count": 5,
   "id": "96b39a06",
   "metadata": {},
   "outputs": [
    {
     "name": "stdout",
     "output_type": "stream",
     "text": [
      "40\n"
     ]
    }
   ],
   "source": [
    "print(len(file_name))"
   ]
  },
  {
   "cell_type": "code",
   "execution_count": 6,
   "id": "463dce1f",
   "metadata": {
    "scrolled": true
   },
   "outputs": [],
   "source": [
    "x_axis = []\n",
    "y_axis = []\n",
    "#y_num = []\n",
    "for i in range(len(files)):\n",
    "    y_tmp = []\n",
    "    if os.path.exists(files[i]):\n",
    "        fr = open(files[i], \"r\", encoding='utf-8')\n",
    "        lines = fr.read()\n",
    "        x, y = data_graph(lines)\n",
    "        fr.close()\n",
    "\n",
    "        y_tmp = list(map(int, y))\n",
    "        \n",
    "        x_axis.append(x)\n",
    "        y_axis.append(y_tmp)\n",
    "        \n",
    "#print(y_tmp)"
   ]
  },
  {
   "cell_type": "code",
   "execution_count": 7,
   "id": "bb52fb73",
   "metadata": {
    "scrolled": true
   },
   "outputs": [],
   "source": [
    "voice_phishing = pd.DataFrame(y_axis, index = files)\n",
    "\n",
    "#보이스 피싱 결측값 개수 step마다\n",
    "voice_phishing_null = voice_phishing.isnull().sum()"
   ]
  },
  {
   "cell_type": "code",
   "execution_count": 8,
   "id": "5ee98e5e",
   "metadata": {
    "scrolled": true
   },
   "outputs": [
    {
     "name": "stdout",
     "output_type": "stream",
     "text": [
      "40\n"
     ]
    }
   ],
   "source": [
    "print(len(y_axis))"
   ]
  },
  {
   "cell_type": "code",
   "execution_count": 9,
   "id": "4fed79ba",
   "metadata": {},
   "outputs": [
    {
     "name": "stdout",
     "output_type": "stream",
     "text": [
      "[8, 8, 8, 8, 8, 8, 10, 10, 8, 10, 8, 8]\n"
     ]
    }
   ],
   "source": [
    "print(y_axis[0]) #보이스 피싱 가능도 파일 내의 값들"
   ]
  },
  {
   "cell_type": "code",
   "execution_count": 10,
   "id": "4f37b958",
   "metadata": {},
   "outputs": [
    {
     "name": "stdout",
     "output_type": "stream",
     "text": [
      "0      0\n",
      "1      0\n",
      "2      0\n",
      "3      1\n",
      "4      3\n",
      "      ..\n",
      "80    39\n",
      "81    39\n",
      "82    39\n",
      "83    39\n",
      "84    39\n",
      "Length: 85, dtype: int64\n"
     ]
    }
   ],
   "source": [
    "print(voice_phishing_null) #보이스 피싱 값들 중 step별로 빠져있는 값들의 합"
   ]
  },
  {
   "cell_type": "code",
   "execution_count": 11,
   "id": "5d5589ae",
   "metadata": {
    "scrolled": false
   },
   "outputs": [
    {
     "name": "stdout",
     "output_type": "stream",
     "text": [
      "[12, 6, 11, 4, 2, 18, 7, 1, 6, 8, 1, 17, 3, 17, 8, 8, 6, 11, 8, 11, 12, 15, 5, 27, 6, 11, 9, 11, 24, 2, 4, 5, 4, 13, 6, 7, 3, 2, 6, 3]\n",
      "[0, 2, 0, 12, 3, 30, 15, 2, 24, 15, 3, 68, 6, 10, 4, 22, 11, 15, 4, 36, 7, 1, 7, 0, 10, 9, 11, 16, 18, 6, 0, 3, 2, 32, 7, 9, 44, 4, 8, 17]\n",
      "[12, 8, 11, 16, 5, 48, 22, 3, 30, 23, 4, 85, 9, 27, 12, 30, 17, 26, 12, 47, 19, 16, 12, 27, 16, 20, 20, 27, 42, 8, 4, 8, 6, 45, 13, 16, 47, 6, 14, 20]\n"
     ]
    }
   ],
   "source": [
    "#보이스 피싱 내용중에 Threshold 6이상 개수 저장 리스트\n",
    "voice_phishing_True = []\n",
    "#보이스 피싱 내용중에 Threshold 6이하 개수 저장 리스트\n",
    "voice_phishing_False = []\n",
    "#보이스 피싱 1개 파일당 크기 저장 리스트\n",
    "voice_phishing_denominator = []\n",
    "#len(y_axis)\n",
    "for i in range(len(y_axis)):\n",
    "    over_Threshold = 0\n",
    "    lower_Threshold = 0\n",
    "    voice_phishing_denominator.append(len(y_axis[i]))\n",
    "    \n",
    "    for j in range(len(y_axis[i])):\n",
    "        if Threshold <= y_axis[i][j]:\n",
    "            over_Threshold += 1\n",
    "        else:\n",
    "            lower_Threshold += 1\n",
    "    voice_phishing_True.append(over_Threshold)\n",
    "    voice_phishing_False.append(lower_Threshold)\n",
    "    \n",
    "print(voice_phishing_True)\n",
    "print(voice_phishing_False)\n",
    "print(voice_phishing_denominator)"
   ]
  },
  {
   "cell_type": "code",
   "execution_count": 12,
   "id": "0366d71d",
   "metadata": {},
   "outputs": [
    {
     "name": "stdout",
     "output_type": "stream",
     "text": [
      "보이스 피싱 알람이 울리지 않은 횟수:  [0, 2, 0, 12, 3, 30, 15, 2, 24, 15, 3, 68, 6, 10, 4, 22, 11, 15, 4, 36, 7, 1, 7, 0, 10, 9, 11, 16, 18, 6, 0, 3, 2, 32, 7, 9, 44, 4, 8, 17]\n",
      "보이스 피싱 데이터 각각 전체 step:  [12, 8, 11, 16, 5, 48, 22, 3, 30, 23, 4, 85, 9, 27, 12, 30, 17, 26, 12, 47, 19, 16, 12, 27, 16, 20, 20, 27, 42, 8, 4, 8, 6, 45, 13, 16, 47, 6, 14, 20]\n"
     ]
    }
   ],
   "source": [
    "print(\"보이스 피싱 알람이 울리지 않은 횟수: \", voice_phishing_False)\n",
    "print(\"보이스 피싱 데이터 각각 전체 step: \", voice_phishing_denominator)"
   ]
  },
  {
   "cell_type": "code",
   "execution_count": 13,
   "id": "9e87bddd",
   "metadata": {},
   "outputs": [
    {
     "data": {
      "text/html": [
       "<div>\n",
       "<style scoped>\n",
       "    .dataframe tbody tr th:only-of-type {\n",
       "        vertical-align: middle;\n",
       "    }\n",
       "\n",
       "    .dataframe tbody tr th {\n",
       "        vertical-align: top;\n",
       "    }\n",
       "\n",
       "    .dataframe thead th {\n",
       "        text-align: right;\n",
       "    }\n",
       "</style>\n",
       "<table border=\"1\" class=\"dataframe\">\n",
       "  <thead>\n",
       "    <tr style=\"text-align: right;\">\n",
       "      <th></th>\n",
       "      <th>파일 이름</th>\n",
       "      <th>보이스 피싱 알람이 울리지 않은 횟수</th>\n",
       "      <th>보이스 피싱 데이터 각각 전체 step</th>\n",
       "    </tr>\n",
       "  </thead>\n",
       "  <tbody>\n",
       "    <tr>\n",
       "      <th>0</th>\n",
       "      <td>01)은행연합회사칭_보안카드탈취시도_ATM기 앞으로 유도.txt</td>\n",
       "      <td>0</td>\n",
       "      <td>12</td>\n",
       "    </tr>\n",
       "    <tr>\n",
       "      <th>1</th>\n",
       "      <td>02)시티캐피탈사칭.txt</td>\n",
       "      <td>2</td>\n",
       "      <td>8</td>\n",
       "    </tr>\n",
       "    <tr>\n",
       "      <th>2</th>\n",
       "      <td>03)금감원 은행조사관 사칭 명의도용 사건.txt</td>\n",
       "      <td>0</td>\n",
       "      <td>11</td>\n",
       "    </tr>\n",
       "    <tr>\n",
       "      <th>3</th>\n",
       "      <td>04)취업빙자 통장편취사기.txt</td>\n",
       "      <td>12</td>\n",
       "      <td>16</td>\n",
       "    </tr>\n",
       "    <tr>\n",
       "      <th>4</th>\n",
       "      <td>05)입출금 가능한 계좌 임대 요청 (한달에 300만원).txt</td>\n",
       "      <td>3</td>\n",
       "      <td>5</td>\n",
       "    </tr>\n",
       "    <tr>\n",
       "      <th>5</th>\n",
       "      <td>104)(피해자가 의심하자) 고객님께서 OO캐시에.txt</td>\n",
       "      <td>30</td>\n",
       "      <td>48</td>\n",
       "    </tr>\n",
       "    <tr>\n",
       "      <th>6</th>\n",
       "      <td>109).txt</td>\n",
       "      <td>15</td>\n",
       "      <td>22</td>\n",
       "    </tr>\n",
       "    <tr>\n",
       "      <th>7</th>\n",
       "      <td>11)이벤트행사 통장 한개당 300만원 제안.txt</td>\n",
       "      <td>2</td>\n",
       "      <td>3</td>\n",
       "    </tr>\n",
       "    <tr>\n",
       "      <th>8</th>\n",
       "      <td>112).txt</td>\n",
       "      <td>24</td>\n",
       "      <td>30</td>\n",
       "    </tr>\n",
       "    <tr>\n",
       "      <th>9</th>\n",
       "      <td>113).txt</td>\n",
       "      <td>15</td>\n",
       "      <td>23</td>\n",
       "    </tr>\n",
       "    <tr>\n",
       "      <th>10</th>\n",
       "      <td>12)통장 임대 요청 (한달 임대료 250만원 드려요).txt</td>\n",
       "      <td>3</td>\n",
       "      <td>4</td>\n",
       "    </tr>\n",
       "    <tr>\n",
       "      <th>11</th>\n",
       "      <td>120).txt</td>\n",
       "      <td>68</td>\n",
       "      <td>85</td>\n",
       "    </tr>\n",
       "    <tr>\n",
       "      <th>12</th>\n",
       "      <td>126).txt</td>\n",
       "      <td>6</td>\n",
       "      <td>9</td>\n",
       "    </tr>\n",
       "    <tr>\n",
       "      <th>13</th>\n",
       "      <td>13)신용관리 명목으로 비용을 요구.txt</td>\n",
       "      <td>10</td>\n",
       "      <td>27</td>\n",
       "    </tr>\n",
       "    <tr>\n",
       "      <th>14</th>\n",
       "      <td>130).txt</td>\n",
       "      <td>4</td>\n",
       "      <td>12</td>\n",
       "    </tr>\n",
       "    <tr>\n",
       "      <th>15</th>\n",
       "      <td>132).txt</td>\n",
       "      <td>22</td>\n",
       "      <td>30</td>\n",
       "    </tr>\n",
       "    <tr>\n",
       "      <th>16</th>\n",
       "      <td>137).txt</td>\n",
       "      <td>11</td>\n",
       "      <td>17</td>\n",
       "    </tr>\n",
       "    <tr>\n",
       "      <th>17</th>\n",
       "      <td>138).txt</td>\n",
       "      <td>15</td>\n",
       "      <td>26</td>\n",
       "    </tr>\n",
       "    <tr>\n",
       "      <th>18</th>\n",
       "      <td>139).txt</td>\n",
       "      <td>4</td>\n",
       "      <td>12</td>\n",
       "    </tr>\n",
       "    <tr>\n",
       "      <th>19</th>\n",
       "      <td>141).txt</td>\n",
       "      <td>36</td>\n",
       "      <td>47</td>\n",
       "    </tr>\n",
       "    <tr>\n",
       "      <th>20</th>\n",
       "      <td>15)전산상 대출 가능조건을 만든다는 명목으로 선입금을 요구.txt</td>\n",
       "      <td>7</td>\n",
       "      <td>19</td>\n",
       "    </tr>\n",
       "    <tr>\n",
       "      <th>21</th>\n",
       "      <td>155).txt</td>\n",
       "      <td>1</td>\n",
       "      <td>16</td>\n",
       "    </tr>\n",
       "    <tr>\n",
       "      <th>22</th>\n",
       "      <td>161).txt</td>\n",
       "      <td>7</td>\n",
       "      <td>12</td>\n",
       "    </tr>\n",
       "    <tr>\n",
       "      <th>23</th>\n",
       "      <td>165).txt</td>\n",
       "      <td>0</td>\n",
       "      <td>27</td>\n",
       "    </tr>\n",
       "    <tr>\n",
       "      <th>24</th>\n",
       "      <td>17)구직사이트를 통해 대포통장을 개설하는 아르바이트 모집1.txt</td>\n",
       "      <td>10</td>\n",
       "      <td>16</td>\n",
       "    </tr>\n",
       "    <tr>\n",
       "      <th>25</th>\n",
       "      <td>19)탈세를 명목으로 하여 통장을 양도하도록 유도.txt</td>\n",
       "      <td>9</td>\n",
       "      <td>20</td>\n",
       "    </tr>\n",
       "    <tr>\n",
       "      <th>26</th>\n",
       "      <td>22)[대출빙자형 3] 은행을 사칭하면서 서민금융나들목 상품 명목의 대출을 안내.txt</td>\n",
       "      <td>11</td>\n",
       "      <td>20</td>\n",
       "    </tr>\n",
       "    <tr>\n",
       "      <th>27</th>\n",
       "      <td>24)[대출빙자형 5] 사금융 대환대출 명목으로 피해자의 무통장입금 유도.txt</td>\n",
       "      <td>16</td>\n",
       "      <td>27</td>\n",
       "    </tr>\n",
       "    <tr>\n",
       "      <th>28</th>\n",
       "      <td>26)[대출빙자형 7] 편법을 통해 피해자 신용평점을 상향시키기 위한 대출상환 요구...</td>\n",
       "      <td>18</td>\n",
       "      <td>42</td>\n",
       "    </tr>\n",
       "    <tr>\n",
       "      <th>29</th>\n",
       "      <td>28)[대출빙자형 9] ARS로 대출안내를 신청한 피해자에게 대출상품을 안내해 줄 ...</td>\n",
       "      <td>6</td>\n",
       "      <td>8</td>\n",
       "    </tr>\n",
       "    <tr>\n",
       "      <th>30</th>\n",
       "      <td>29)신한금융 사칭 대출권유.txt</td>\n",
       "      <td>0</td>\n",
       "      <td>4</td>\n",
       "    </tr>\n",
       "    <tr>\n",
       "      <th>31</th>\n",
       "      <td>36)경매대행 업체를 사칭하여 대포통장 및 인출책 모집.txt</td>\n",
       "      <td>3</td>\n",
       "      <td>8</td>\n",
       "    </tr>\n",
       "    <tr>\n",
       "      <th>32</th>\n",
       "      <td>40)음성안내에 대해 대출상담을 신청하자 시중은행을 사칭.txt</td>\n",
       "      <td>2</td>\n",
       "      <td>6</td>\n",
       "    </tr>\n",
       "    <tr>\n",
       "      <th>33</th>\n",
       "      <td>50).txt</td>\n",
       "      <td>32</td>\n",
       "      <td>45</td>\n",
       "    </tr>\n",
       "    <tr>\n",
       "      <th>34</th>\n",
       "      <td>51)기존 대출을 반환하시면 됩니다.txt</td>\n",
       "      <td>7</td>\n",
       "      <td>13</td>\n",
       "    </tr>\n",
       "    <tr>\n",
       "      <th>35</th>\n",
       "      <td>56).txt</td>\n",
       "      <td>9</td>\n",
       "      <td>16</td>\n",
       "    </tr>\n",
       "    <tr>\n",
       "      <th>36</th>\n",
       "      <td>61).txt</td>\n",
       "      <td>44</td>\n",
       "      <td>47</td>\n",
       "    </tr>\n",
       "    <tr>\n",
       "      <th>37</th>\n",
       "      <td>66)대출을 위해서 신분증 사본과 3개월치 입출금 거래내역서를 보내주셔야 합니다.txt</td>\n",
       "      <td>4</td>\n",
       "      <td>6</td>\n",
       "    </tr>\n",
       "    <tr>\n",
       "      <th>38</th>\n",
       "      <td>81).txt</td>\n",
       "      <td>8</td>\n",
       "      <td>14</td>\n",
       "    </tr>\n",
       "    <tr>\n",
       "      <th>39</th>\n",
       "      <td>84)고객님께서 저희 OO캐피탈로부터 대출을 받는다는 녹취를 진행하도록 하겠습니다....</td>\n",
       "      <td>17</td>\n",
       "      <td>20</td>\n",
       "    </tr>\n",
       "  </tbody>\n",
       "</table>\n",
       "</div>"
      ],
      "text/plain": [
       "                                                파일 이름  보이스 피싱 알람이 울리지 않은 횟수  \\\n",
       "0                 01)은행연합회사칭_보안카드탈취시도_ATM기 앞으로 유도.txt                     0   \n",
       "1                                      02)시티캐피탈사칭.txt                     2   \n",
       "2                         03)금감원 은행조사관 사칭 명의도용 사건.txt                     0   \n",
       "3                                  04)취업빙자 통장편취사기.txt                    12   \n",
       "4                 05)입출금 가능한 계좌 임대 요청 (한달에 300만원).txt                     3   \n",
       "5                     104)(피해자가 의심하자) 고객님께서 OO캐시에.txt                    30   \n",
       "6                                            109).txt                    15   \n",
       "7                        11)이벤트행사 통장 한개당 300만원 제안.txt                     2   \n",
       "8                                            112).txt                    24   \n",
       "9                                            113).txt                    15   \n",
       "10                 12)통장 임대 요청 (한달 임대료 250만원 드려요).txt                     3   \n",
       "11                                           120).txt                    68   \n",
       "12                                           126).txt                     6   \n",
       "13                            13)신용관리 명목으로 비용을 요구.txt                    10   \n",
       "14                                           130).txt                     4   \n",
       "15                                           132).txt                    22   \n",
       "16                                           137).txt                    11   \n",
       "17                                           138).txt                    15   \n",
       "18                                           139).txt                     4   \n",
       "19                                           141).txt                    36   \n",
       "20              15)전산상 대출 가능조건을 만든다는 명목으로 선입금을 요구.txt                     7   \n",
       "21                                           155).txt                     1   \n",
       "22                                           161).txt                     7   \n",
       "23                                           165).txt                     0   \n",
       "24              17)구직사이트를 통해 대포통장을 개설하는 아르바이트 모집1.txt                    10   \n",
       "25                    19)탈세를 명목으로 하여 통장을 양도하도록 유도.txt                     9   \n",
       "26   22)[대출빙자형 3] 은행을 사칭하면서 서민금융나들목 상품 명목의 대출을 안내.txt                    11   \n",
       "27       24)[대출빙자형 5] 사금융 대환대출 명목으로 피해자의 무통장입금 유도.txt                    16   \n",
       "28  26)[대출빙자형 7] 편법을 통해 피해자 신용평점을 상향시키기 위한 대출상환 요구...                    18   \n",
       "29  28)[대출빙자형 9] ARS로 대출안내를 신청한 피해자에게 대출상품을 안내해 줄 ...                     6   \n",
       "30                                29)신한금융 사칭 대출권유.txt                     0   \n",
       "31                 36)경매대행 업체를 사칭하여 대포통장 및 인출책 모집.txt                     3   \n",
       "32                40)음성안내에 대해 대출상담을 신청하자 시중은행을 사칭.txt                     2   \n",
       "33                                            50).txt                    32   \n",
       "34                            51)기존 대출을 반환하시면 됩니다.txt                     7   \n",
       "35                                            56).txt                     9   \n",
       "36                                            61).txt                    44   \n",
       "37   66)대출을 위해서 신분증 사본과 3개월치 입출금 거래내역서를 보내주셔야 합니다.txt                     4   \n",
       "38                                            81).txt                     8   \n",
       "39  84)고객님께서 저희 OO캐피탈로부터 대출을 받는다는 녹취를 진행하도록 하겠습니다....                    17   \n",
       "\n",
       "    보이스 피싱 데이터 각각 전체 step   \n",
       "0                       12  \n",
       "1                        8  \n",
       "2                       11  \n",
       "3                       16  \n",
       "4                        5  \n",
       "5                       48  \n",
       "6                       22  \n",
       "7                        3  \n",
       "8                       30  \n",
       "9                       23  \n",
       "10                       4  \n",
       "11                      85  \n",
       "12                       9  \n",
       "13                      27  \n",
       "14                      12  \n",
       "15                      30  \n",
       "16                      17  \n",
       "17                      26  \n",
       "18                      12  \n",
       "19                      47  \n",
       "20                      19  \n",
       "21                      16  \n",
       "22                      12  \n",
       "23                      27  \n",
       "24                      16  \n",
       "25                      20  \n",
       "26                      20  \n",
       "27                      27  \n",
       "28                      42  \n",
       "29                       8  \n",
       "30                       4  \n",
       "31                       8  \n",
       "32                       6  \n",
       "33                      45  \n",
       "34                      13  \n",
       "35                      16  \n",
       "36                      47  \n",
       "37                       6  \n",
       "38                      14  \n",
       "39                      20  "
      ]
     },
     "execution_count": 13,
     "metadata": {},
     "output_type": "execute_result"
    }
   ],
   "source": [
    "df = pd.DataFrame({\"파일 이름\" : file_name,\n",
    "                 \"보이스 피싱 알람이 울리지 않은 횟수\" : voice_phishing_False,\n",
    "                 \"보이스 피싱 데이터 각각 전체 step \": voice_phishing_denominator\n",
    "                  })\n",
    "df"
   ]
  },
  {
   "cell_type": "code",
   "execution_count": 14,
   "id": "5aef6433",
   "metadata": {},
   "outputs": [
    {
     "name": "stdout",
     "output_type": "stream",
     "text": [
      "38\n",
      "2\n",
      "[38, 2]\n"
     ]
    }
   ],
   "source": [
    "voice_phishing_confusion_matrix = []\n",
    "true_voice_phishing_tmp = []\n",
    "flase_voice_phishing_tmp = []\n",
    "count_tmp = 0\n",
    "\n",
    "voice_phishing_over50 = 0\n",
    "voice_phishing_lower50 = 0\n",
    "for i in range(len(y_axis)):\n",
    "    cal = voice_phishing_True[i] / voice_phishing_denominator[i]\n",
    "    if avg <= cal:\n",
    "        voice_phishing_over50 += 1\n",
    "        true_voice_phishing_tmp.append(file_name[count_tmp])\n",
    "        count_tmp += 1\n",
    "    else:\n",
    "        voice_phishing_lower50 +=1\n",
    "        flase_voice_phishing_tmp.append(file_name[count_tmp])\n",
    "        count_tmp += 1\n",
    "        \n",
    "print(voice_phishing_over50) \n",
    "print(voice_phishing_lower50)\n",
    "voice_phishing_confusion_matrix.append(voice_phishing_over50)\n",
    "voice_phishing_confusion_matrix.append(voice_phishing_lower50)\n",
    "print(voice_phishing_confusion_matrix)"
   ]
  },
  {
   "cell_type": "code",
   "execution_count": 15,
   "id": "6f70c210",
   "metadata": {},
   "outputs": [
    {
     "name": "stdout",
     "output_type": "stream",
     "text": [
      "보이스 피싱으로 분류된 파일:  ['01)은행연합회사칭_보안카드탈취시도_ATM기 앞으로 유도.txt', '02)시티캐피탈사칭.txt', '03)금감원 은행조사관 사칭 명의도용 사건.txt', '04)취업빙자 통장편취사기.txt', '05)입출금 가능한 계좌 임대 요청 (한달에 300만원).txt', '104)(피해자가 의심하자) 고객님께서 OO캐시에.txt', '109).txt', '11)이벤트행사 통장 한개당 300만원 제안.txt', '112).txt', '113).txt', '12)통장 임대 요청 (한달 임대료 250만원 드려요).txt', '120).txt', '126).txt', '13)신용관리 명목으로 비용을 요구.txt', '130).txt', '132).txt', '137).txt', '138).txt', '139).txt', '141).txt', '15)전산상 대출 가능조건을 만든다는 명목으로 선입금을 요구.txt', '155).txt', '161).txt', '165).txt', '17)구직사이트를 통해 대포통장을 개설하는 아르바이트 모집1.txt', '19)탈세를 명목으로 하여 통장을 양도하도록 유도.txt', '22)[대출빙자형 3] 은행을 사칭하면서 서민금융나들목 상품 명목의 대출을 안내.txt', '24)[대출빙자형 5] 사금융 대환대출 명목으로 피해자의 무통장입금 유도.txt', '26)[대출빙자형 7] 편법을 통해 피해자 신용평점을 상향시키기 위한 대출상환 요구-ⓑ.txt', '28)[대출빙자형 9] ARS로 대출안내를 신청한 피해자에게 대출상품을 안내해 줄 것처럼 속임.txt', '29)신한금융 사칭 대출권유.txt', '36)경매대행 업체를 사칭하여 대포통장 및 인출책 모집.txt', '40)음성안내에 대해 대출상담을 신청하자 시중은행을 사칭.txt', '50).txt', '51)기존 대출을 반환하시면 됩니다.txt', '56).txt', '66)대출을 위해서 신분증 사본과 3개월치 입출금 거래내역서를 보내주셔야 합니다.txt', '81).txt']\n"
     ]
    }
   ],
   "source": [
    "print(\"보이스 피싱으로 분류된 파일: \", true_voice_phishing_tmp)"
   ]
  },
  {
   "cell_type": "code",
   "execution_count": 16,
   "id": "407f579e",
   "metadata": {},
   "outputs": [
    {
     "name": "stdout",
     "output_type": "stream",
     "text": [
      "일반대화로 분류된 파일:  ['61).txt', '84)고객님께서 저희 OO캐피탈로부터 대출을 받는다는 녹취를 진행하도록 하겠습니다. 동 내용으로 인해 유출 등의 문제 발생시 금감원에 손해배상청구소송을 진행하실 수 있습니다.txt']\n"
     ]
    }
   ],
   "source": [
    "print(\"일반대화로 분류된 파일: \", flase_voice_phishing_tmp)"
   ]
  },
  {
   "cell_type": "code",
   "execution_count": 17,
   "id": "8279fab6",
   "metadata": {},
   "outputs": [
    {
     "name": "stdout",
     "output_type": "stream",
     "text": [
      "20\n"
     ]
    }
   ],
   "source": [
    "#보이스 피싱 결측값 개수 step마다\n",
    "print(len(voice_phishing_null[0:20]))"
   ]
  },
  {
   "cell_type": "code",
   "execution_count": 18,
   "id": "cfb568ea",
   "metadata": {},
   "outputs": [
    {
     "name": "stdout",
     "output_type": "stream",
     "text": [
      "['01.txt', '02.txt', '03.txt', '04.txt', '05.txt', '11.txt', '14.txt', '15.txt', '17.txt', '18.txt', '20.txt', '21.txt', '24.txt', '25.txt', '26.txt', '28.txt', '29.txt', '30.txt', '31.txt', '33.txt', '38.txt', '39.txt', '41.txt', '43.txt', '44.txt', '48.txt', '50.txt', '52.txt', '54.txt', '55.txt', '56.txt', '59.txt', '60.txt', '61.txt', '62.txt', '64.txt', '69.txt', '70.txt', '72.txt', '74.txt']\n"
     ]
    }
   ],
   "source": [
    "file_num = 0 #파일의 개수 확인\n",
    "#폴더 안에 있는 파일수 함수\n",
    "files = []\n",
    "#root = \"./openai-quickstart-python-master/일반대화 저장 txt 0406\"\n",
    "root = \"./Real-time Voice Phishing Detection/NonVP_train\"\n",
    "file_name = []\n",
    "file_name = os.listdir(root) #파일 이름만 저장\n",
    "step = 100 #몇개의 문자로 나눴는지 확인 변수\n",
    "\n",
    "walk = [root]\n",
    "while walk:\n",
    "    folder = walk.pop(0)+\"/\"\n",
    "    items = os.listdir(folder) # items = folders + files\n",
    "    for i in items:\n",
    "        file_num = file_num +1\n",
    "        i=folder+i # 파일 경로와 파일이름 맵핑 리스트\n",
    "        (walk if os.path.isdir(i) else files).append(i)\n",
    "#print(files)\n",
    "print(file_name)"
   ]
  },
  {
   "cell_type": "code",
   "execution_count": 19,
   "id": "0347ac00",
   "metadata": {
    "scrolled": true
   },
   "outputs": [],
   "source": [
    "x_axis = []\n",
    "y_axis = []\n",
    "#y_num = []\n",
    "for i in range(len(files)):\n",
    "    y_tmp = []\n",
    "    if os.path.exists(files[i]):\n",
    "        fr = open(files[i], \"r\", encoding='utf-8')\n",
    "        lines = fr.read()\n",
    "        x, y = data_graph(lines)\n",
    "        fr.close()\n",
    "        \n",
    "        y_tmp = list(map(int, y))\n",
    "        \n",
    "        x_axis.append(x)\n",
    "        y_axis.append(y_tmp)\n",
    "        \n",
    "#print(y_tmp)"
   ]
  },
  {
   "cell_type": "code",
   "execution_count": 20,
   "id": "0250c3be",
   "metadata": {},
   "outputs": [],
   "source": [
    "general_conversation = pd.DataFrame(y_axis, index = files)\n",
    "general_conversation\n",
    "\n",
    "#일반대화 결측값 개수 step마다\n",
    "general_conversation_null = general_conversation.isnull().sum()"
   ]
  },
  {
   "cell_type": "code",
   "execution_count": 21,
   "id": "a6ab88c2",
   "metadata": {},
   "outputs": [
    {
     "name": "stdout",
     "output_type": "stream",
     "text": [
      "0     0\n",
      "1     0\n",
      "2     0\n",
      "3     0\n",
      "4     0\n",
      "5     3\n",
      "6    18\n",
      "7    30\n",
      "8    36\n",
      "9    39\n",
      "dtype: int64\n"
     ]
    }
   ],
   "source": [
    "print(general_conversation_null)"
   ]
  },
  {
   "cell_type": "code",
   "execution_count": 22,
   "id": "9e90161a",
   "metadata": {},
   "outputs": [
    {
     "name": "stdout",
     "output_type": "stream",
     "text": [
      "[0, 1, 0, 0, 0, 0, 1, 0, 0, 0, 0, 0, 0, 2, 0, 0, 0, 0, 0, 0, 0, 0, 0, 0, 0, 0, 2, 0, 0, 0, 0, 0, 2, 3, 0, 0, 0, 2, 0, 1]\n",
      "[8, 5, 5, 7, 6, 6, 5, 6, 6, 8, 6, 7, 9, 5, 8, 7, 8, 7, 9, 8, 6, 6, 6, 6, 5, 5, 4, 6, 6, 6, 7, 7, 5, 4, 7, 9, 7, 5, 10, 7]\n",
      "[8, 6, 5, 7, 6, 6, 6, 6, 6, 8, 6, 7, 9, 7, 8, 7, 8, 7, 9, 8, 6, 6, 6, 6, 5, 5, 6, 6, 6, 6, 7, 7, 7, 7, 7, 9, 7, 7, 10, 8]\n"
     ]
    }
   ],
   "source": [
    "#일반대화 내용중에 Threshold 6이상 개수 저장 리스트\n",
    "general_conversation_True = []\n",
    "#일반대화 내용중에 Threshold 6이하 개수 저장 리스트\n",
    "general_conversation_False = []\n",
    "#일반대화 1개 파일당 크기 저장 리스트\n",
    "general_conversation_denominator = []\n",
    "#len(y_axis)\n",
    "for i in range(len(y_axis)):\n",
    "    over_Threshold = 0\n",
    "    lower_Threshold = 0\n",
    "    general_conversation_denominator.append(len(y_axis[i]))\n",
    "    \n",
    "    for j in range(len(y_axis[i])):\n",
    "        if Threshold <= y_axis[i][j]:\n",
    "            over_Threshold += 1\n",
    "        else:\n",
    "            lower_Threshold += 1\n",
    "    general_conversation_True.append(over_Threshold)\n",
    "    general_conversation_False.append(lower_Threshold)\n",
    "    \n",
    "print(general_conversation_True)\n",
    "print(general_conversation_False)\n",
    "print(general_conversation_denominator)"
   ]
  },
  {
   "cell_type": "code",
   "execution_count": 23,
   "id": "1a51db7e",
   "metadata": {},
   "outputs": [
    {
     "name": "stdout",
     "output_type": "stream",
     "text": [
      "5\n",
      "35\n",
      "[5, 35]\n"
     ]
    }
   ],
   "source": [
    "general_conversation_confusion_matrix = []\n",
    "true_general_conversation_tmp = []\n",
    "false_general_conversation_tmp = []\n",
    "count_tmp = 0\n",
    "\n",
    "general_conversation_over50 = 0\n",
    "general_conversation_lower50 = 0\n",
    "for i in range(len(y_axis)):\n",
    "    cal = general_conversation_True[i] / general_conversation_denominator[i]\n",
    "    if avg <= cal:\n",
    "        general_conversation_over50 += 1\n",
    "        true_general_conversation_tmp.append(file_name[count_tmp])\n",
    "        count_tmp += 1\n",
    "    else:\n",
    "        general_conversation_lower50 +=1\n",
    "        false_general_conversation_tmp.append(file_name[count_tmp])\n",
    "        count_tmp += 1\n",
    "    \n",
    "print(general_conversation_over50) \n",
    "print(general_conversation_lower50)\n",
    "general_conversation_confusion_matrix.append(general_conversation_over50)\n",
    "general_conversation_confusion_matrix.append(general_conversation_lower50)\n",
    "print(general_conversation_confusion_matrix)"
   ]
  },
  {
   "cell_type": "code",
   "execution_count": 24,
   "id": "10d4e3de",
   "metadata": {},
   "outputs": [
    {
     "name": "stdout",
     "output_type": "stream",
     "text": [
      "10\n"
     ]
    }
   ],
   "source": [
    "print(len(general_conversation_null[0:20]))"
   ]
  },
  {
   "cell_type": "code",
   "execution_count": 25,
   "id": "90b13c04",
   "metadata": {
    "scrolled": true
   },
   "outputs": [],
   "source": [
    "voice_phishing_mean = voice_phishing.mean()\n",
    "general_conversation_mean = general_conversation.mean()\n",
    "\n",
    "#general_conversation_mean"
   ]
  },
  {
   "cell_type": "code",
   "execution_count": 26,
   "id": "020a0027",
   "metadata": {
    "scrolled": true
   },
   "outputs": [
    {
     "name": "stdout",
     "output_type": "stream",
     "text": [
      "85\n",
      "10\n"
     ]
    }
   ],
   "source": [
    "print(len(voice_phishing_mean))\n",
    "print(len(general_conversation_mean))"
   ]
  },
  {
   "cell_type": "code",
   "execution_count": 27,
   "id": "662d877c",
   "metadata": {},
   "outputs": [],
   "source": [
    "voice_phishing_step = []\n",
    "num = 1\n",
    "for i in range(len(voice_phishing_mean)):\n",
    "    #x_label = num * y\n",
    "    voice_phishing_step.append(num * step)\n",
    "    num += 1\n",
    "\n",
    "    general_conversation_step = []\n",
    "num = 1\n",
    "for i in range(len(general_conversation_mean)):\n",
    "    #x_label = num * y\n",
    "    general_conversation_step.append(num * step)\n",
    "    num += 1"
   ]
  },
  {
   "cell_type": "code",
   "execution_count": 28,
   "id": "2cee885e",
   "metadata": {},
   "outputs": [
    {
     "name": "stdout",
     "output_type": "stream",
     "text": [
      "85\n",
      "10\n"
     ]
    }
   ],
   "source": [
    "print(len(voice_phishing_step))\n",
    "print(len(general_conversation_step))"
   ]
  },
  {
   "cell_type": "code",
   "execution_count": 29,
   "id": "f983317b",
   "metadata": {},
   "outputs": [
    {
     "name": "stdout",
     "output_type": "stream",
     "text": [
      "[100, 200, 300, 400, 500, 600]\n",
      "0    0.650000\n",
      "1    0.525000\n",
      "2    0.725000\n",
      "3    1.050000\n",
      "4    0.400000\n",
      "5    0.135135\n",
      "dtype: float64\n"
     ]
    }
   ],
   "source": [
    "general_conversation_step = general_conversation_step[0:6]\n",
    "general_conversation_mean = general_conversation_mean[0:6]\n",
    "print(general_conversation_step)\n",
    "print(general_conversation_mean)"
   ]
  },
  {
   "cell_type": "code",
   "execution_count": 30,
   "id": "39b4415c",
   "metadata": {},
   "outputs": [
    {
     "data": {
      "image/png": "[encoded data removed]",
      "text/plain": [
       "<Figure size 640x480 with 1 Axes>"
      ]
     },
     "metadata": {
      "image/png": {
       "height": 474,
       "width": 561
      }
     },
     "output_type": "display_data"
    }
   ],
   "source": [
    "plt.plot(voice_phishing_step, voice_phishing_mean, marker=\"o\", markerfacecolor='None', label='voice_phishing_step')\n",
    "plt.plot(general_conversation_step, general_conversation_mean, marker=\"s\", markerfacecolor='None', label='general_conversation_step')\n",
    "\n",
    "plt.xlabel('Conversation step mean progress')\n",
    "plt.ylabel('Possible Voice Phishing Conversations')\n",
    "plt.title('Voice Phishing & General' +  '\\n Conversations Progress')\n",
    "plt.grid()\n",
    "plt.legend(loc='lower right')\n",
    "#plt.legend(bbox_to_anchor=(1.04, 1))\n",
    "#plt.xticks(np.arange(100, 1100)) #x축 눈금 설정\n",
    "plt.xlim([100, 1100]) #x축 범위 설정\n",
    "plt.yticks(np.arange(0, 11)) #y축 눈금 설정\n",
    "#plt.savefig('txt.png')\n",
    "#plt.close()\n",
    "plt.show()\n",
    "plt.close()"
   ]
  },
  {
   "cell_type": "code",
   "execution_count": 31,
   "id": "00d26523",
   "metadata": {},
   "outputs": [
    {
     "name": "stdout",
     "output_type": "stream",
     "text": [
      "보이스 피싱 step별 결측개수\n",
      "0      0\n",
      "1      0\n",
      "2      0\n",
      "3      1\n",
      "4      3\n",
      "5      4\n",
      "6      6\n",
      "7      6\n",
      "8      9\n",
      "9     10\n",
      "10    10\n",
      "11    11\n",
      "12    15\n",
      "13    16\n",
      "14    17\n",
      "15    17\n",
      "16    21\n",
      "17    22\n",
      "18    22\n",
      "19    23\n",
      "dtype: int64\n"
     ]
    }
   ],
   "source": [
    "#보이스 피싱 결측값 개수 step마다\n",
    "print(\"보이스 피싱 step별 결측개수\")\n",
    "print(voice_phishing_null[0:20])"
   ]
  },
  {
   "cell_type": "code",
   "execution_count": 32,
   "id": "fe569c61",
   "metadata": {},
   "outputs": [
    {
     "name": "stdout",
     "output_type": "stream",
     "text": [
      "일반대화 step별 결측개수\n",
      "0     0\n",
      "1     0\n",
      "2     0\n",
      "3     0\n",
      "4     0\n",
      "5     3\n",
      "6    18\n",
      "7    30\n",
      "8    36\n",
      "9    39\n",
      "dtype: int64\n"
     ]
    }
   ],
   "source": [
    "#일반대화 결측값 개수 step마다\n",
    "print(\"일반대화 step별 결측개수\")\n",
    "print(general_conversation_null[0:20])"
   ]
  },
  {
   "cell_type": "code",
   "execution_count": 33,
   "id": "ee317c90",
   "metadata": {},
   "outputs": [
    {
     "name": "stdout",
     "output_type": "stream",
     "text": [
      "보이스피싱 대화 False 알람 확률: 59.2%\n"
     ]
    }
   ],
   "source": [
    "#(general_conversation_False)\n",
    "#print(general_conversation_denominator)\n",
    "\n",
    "voice_phishing_False_percentage = 0\n",
    "molecule = 0\n",
    "denominator = 0\n",
    "for i in range(len(voice_phishing_False)):\n",
    "    molecule += voice_phishing_False[i]\n",
    "    denominator += voice_phishing_denominator[i]\n",
    "\n",
    "voice_phishing_False_check = (molecule / denominator) * 100\n",
    "print(\"보이스피싱 대화 False 알람 확률: \" + str(round(voice_phishing_False_check, 1)) + \"%\")"
   ]
  },
  {
   "cell_type": "code",
   "execution_count": 34,
   "id": "8e2fcc3b",
   "metadata": {},
   "outputs": [
    {
     "name": "stdout",
     "output_type": "stream",
     "text": [
      "일반 대화 False 알람 확률: 5.1%\n"
     ]
    }
   ],
   "source": [
    "general_conversation_False_percentage = 0\n",
    "molecule = 0\n",
    "denominator = 0\n",
    "for i in range(len(general_conversation_False)):\n",
    "    molecule += general_conversation_True[i]\n",
    "    denominator += general_conversation_denominator[i]\n",
    "\n",
    "general_conversation_False_check = (molecule / denominator) * 100\n",
    "print(\"일반 대화 False 알람 확률: \" + str(round(general_conversation_False_check, 1)) + \"%\")"
   ]
  },
  {
   "cell_type": "code",
   "execution_count": 35,
   "id": "b53d80d4",
   "metadata": {},
   "outputs": [
    {
     "name": "stdout",
     "output_type": "stream",
     "text": [
      "일반대화 중에 1번이라도 알람이 간 개수:  8\n"
     ]
    }
   ],
   "source": [
    "missed_general_conversation_sum = 0\n",
    "for i in range(len(general_conversation_True)):\n",
    "    if (general_conversation_True[i] > 0):\n",
    "        missed_general_conversation_sum += 1\n",
    "print(\"일반대화 중에 1번이라도 알람이 간 개수: \", missed_general_conversation_sum)"
   ]
  },
  {
   "cell_type": "code",
   "execution_count": 36,
   "id": "928dd24f",
   "metadata": {},
   "outputs": [
    {
     "data": {
      "text/html": [
       "<div>\n",
       "<style scoped>\n",
       "    .dataframe tbody tr th:only-of-type {\n",
       "        vertical-align: middle;\n",
       "    }\n",
       "\n",
       "    .dataframe tbody tr th {\n",
       "        vertical-align: top;\n",
       "    }\n",
       "\n",
       "    .dataframe thead th {\n",
       "        text-align: right;\n",
       "    }\n",
       "</style>\n",
       "<table border=\"1\" class=\"dataframe\">\n",
       "  <thead>\n",
       "    <tr style=\"text-align: right;\">\n",
       "      <th></th>\n",
       "      <th>VP</th>\n",
       "      <th>Non-VP</th>\n",
       "    </tr>\n",
       "  </thead>\n",
       "  <tbody>\n",
       "    <tr>\n",
       "      <th>VP</th>\n",
       "      <td>38</td>\n",
       "      <td>2</td>\n",
       "    </tr>\n",
       "    <tr>\n",
       "      <th>Non-VP</th>\n",
       "      <td>5</td>\n",
       "      <td>35</td>\n",
       "    </tr>\n",
       "  </tbody>\n",
       "</table>\n",
       "</div>"
      ],
      "text/plain": [
       "        VP  Non-VP\n",
       "VP      38       2\n",
       "Non-VP   5      35"
      ]
     },
     "execution_count": 36,
     "metadata": {},
     "output_type": "execute_result"
    }
   ],
   "source": [
    "sns.set(font_scale=2)\n",
    "confusion_matrix = []\n",
    "confusion_matrix.append(voice_phishing_confusion_matrix)\n",
    "confusion_matrix.append(general_conversation_confusion_matrix)\n",
    "\n",
    "X_lable = [\"VP\", \"Non-VP\"]\n",
    "\n",
    "df_cm = DataFrame(confusion_matrix, index=[i for i in X_lable],\n",
    "                 columns= [i for i in X_lable])\n",
    "df_cm"
   ]
  },
  {
   "cell_type": "code",
   "execution_count": 37,
   "id": "f6a43443",
   "metadata": {},
   "outputs": [
    {
     "name": "stdout",
     "output_type": "stream",
     "text": [
      "VP        40\n",
      "Non-VP    40\n",
      "dtype: int64\n"
     ]
    }
   ],
   "source": [
    "recall_row = df2=df_cm.sum(axis=1) #  보이스피싱별 합 (즉  행의 합)\n",
    "print(recall_row)"
   ]
  },
  {
   "cell_type": "code",
   "execution_count": 38,
   "id": "f6c6b17f",
   "metadata": {},
   "outputs": [
    {
     "name": "stdout",
     "output_type": "stream",
     "text": [
      "VP        43\n",
      "Non-VP    37\n",
      "dtype: int64\n"
     ]
    }
   ],
   "source": [
    "precision_column = df2=df_cm.sum(axis=0) #  보이스피싱별 합 (즉  행의 합)\n",
    "print(precision_column)"
   ]
  },
  {
   "cell_type": "code",
   "execution_count": 39,
   "id": "5fc8fe00",
   "metadata": {},
   "outputs": [],
   "source": [
    "VP = confusion_matrix[0][0]"
   ]
  },
  {
   "cell_type": "code",
   "execution_count": 40,
   "id": "49732316",
   "metadata": {},
   "outputs": [
    {
     "name": "stdout",
     "output_type": "stream",
     "text": [
      "Recall score =  0.95\n"
     ]
    }
   ],
   "source": [
    "recall = VP / recall_row[0]\n",
    "print(\"Recall score = \", recall)"
   ]
  },
  {
   "cell_type": "code",
   "execution_count": 41,
   "id": "8a844623",
   "metadata": {},
   "outputs": [
    {
     "name": "stdout",
     "output_type": "stream",
     "text": [
      "Precision score =  0.8837209302325582\n"
     ]
    }
   ],
   "source": [
    "precision = VP / precision_column[0]\n",
    "print(\"Precision score = \", precision)"
   ]
  },
  {
   "cell_type": "code",
   "execution_count": 42,
   "id": "8d7e7f53",
   "metadata": {},
   "outputs": [
    {
     "data": {
      "image/png": "[encoded data removed]",
      "text/plain": [
       "<Figure size 700x500 with 2 Axes>"
      ]
     },
     "metadata": {
      "image/png": {
       "height": 446,
       "width": 589
      }
     },
     "output_type": "display_data"
    }
   ],
   "source": [
    "plt.figure(figsize = (7,5))\n",
    "#plt.rc('font', size=25)        # 기본 폰트 크기\n",
    "plt.rc('axes', labelsize=40)   # x,y축 label 폰트 크기\n",
    "#plt.rc('xtick', labelsize=50)  # x축 눈금 폰트 크기 \n",
    "#plt.rc('ytick', labelsize=1)  # y축 눈금 폰트 크기\n",
    "#plt.title('Voice Phishing & General' +  '\\n Conversations Estimation')\n",
    "sns.heatmap(df_cm, annot=True, fmt=\"d\", \n",
    "            linewidths=.5, \n",
    "            annot_kws={\"size\": 40});"
   ]
  },
  {
   "cell_type": "code",
   "execution_count": 43,
   "id": "f10792a2",
   "metadata": {},
   "outputs": [
    {
     "name": "stdout",
     "output_type": "stream",
     "text": [
      "보이스피싱인데 보이스 피싱으로 분류된 파일:  ['01)은행연합회사칭_보안카드탈취시도_ATM기 앞으로 유도.txt', '02)시티캐피탈사칭.txt', '03)금감원 은행조사관 사칭 명의도용 사건.txt', '04)취업빙자 통장편취사기.txt', '05)입출금 가능한 계좌 임대 요청 (한달에 300만원).txt', '104)(피해자가 의심하자) 고객님께서 OO캐시에.txt', '109).txt', '11)이벤트행사 통장 한개당 300만원 제안.txt', '112).txt', '113).txt', '12)통장 임대 요청 (한달 임대료 250만원 드려요).txt', '120).txt', '126).txt', '13)신용관리 명목으로 비용을 요구.txt', '130).txt', '132).txt', '137).txt', '138).txt', '139).txt', '141).txt', '15)전산상 대출 가능조건을 만든다는 명목으로 선입금을 요구.txt', '155).txt', '161).txt', '165).txt', '17)구직사이트를 통해 대포통장을 개설하는 아르바이트 모집1.txt', '19)탈세를 명목으로 하여 통장을 양도하도록 유도.txt', '22)[대출빙자형 3] 은행을 사칭하면서 서민금융나들목 상품 명목의 대출을 안내.txt', '24)[대출빙자형 5] 사금융 대환대출 명목으로 피해자의 무통장입금 유도.txt', '26)[대출빙자형 7] 편법을 통해 피해자 신용평점을 상향시키기 위한 대출상환 요구-ⓑ.txt', '28)[대출빙자형 9] ARS로 대출안내를 신청한 피해자에게 대출상품을 안내해 줄 것처럼 속임.txt', '29)신한금융 사칭 대출권유.txt', '36)경매대행 업체를 사칭하여 대포통장 및 인출책 모집.txt', '40)음성안내에 대해 대출상담을 신청하자 시중은행을 사칭.txt', '50).txt', '51)기존 대출을 반환하시면 됩니다.txt', '56).txt', '66)대출을 위해서 신분증 사본과 3개월치 입출금 거래내역서를 보내주셔야 합니다.txt', '81).txt']\n"
     ]
    }
   ],
   "source": [
    "print(\"보이스피싱인데 보이스 피싱으로 분류된 파일: \", true_voice_phishing_tmp)"
   ]
  },
  {
   "cell_type": "code",
   "execution_count": 44,
   "id": "606227a4",
   "metadata": {},
   "outputs": [
    {
     "name": "stdout",
     "output_type": "stream",
     "text": [
      "보이스피싱인데 일반대화로 분류된 파일:  ['61).txt', '84)고객님께서 저희 OO캐피탈로부터 대출을 받는다는 녹취를 진행하도록 하겠습니다. 동 내용으로 인해 유출 등의 문제 발생시 금감원에 손해배상청구소송을 진행하실 수 있습니다.txt']\n"
     ]
    }
   ],
   "source": [
    "print(\"보이스피싱인데 일반대화로 분류된 파일: \", flase_voice_phishing_tmp)"
   ]
  },
  {
   "cell_type": "code",
   "execution_count": 45,
   "id": "11fdaa36",
   "metadata": {},
   "outputs": [
    {
     "name": "stdout",
     "output_type": "stream",
     "text": [
      "일반대화인데 보이스 피싱으로 분류된 파일:  ['25.txt', '50.txt', '60.txt', '61.txt', '70.txt']\n"
     ]
    }
   ],
   "source": [
    "print(\"일반대화인데 보이스 피싱으로 분류된 파일: \", true_general_conversation_tmp)"
   ]
  },
  {
   "cell_type": "code",
   "execution_count": 46,
   "id": "e4374b9f",
   "metadata": {},
   "outputs": [
    {
     "name": "stdout",
     "output_type": "stream",
     "text": [
      "일반대화인데 일반대화로 분류된 파일:  ['01.txt', '02.txt', '03.txt', '04.txt', '05.txt', '11.txt', '14.txt', '15.txt', '17.txt', '18.txt', '20.txt', '21.txt', '24.txt', '26.txt', '28.txt', '29.txt', '30.txt', '31.txt', '33.txt', '38.txt', '39.txt', '41.txt', '43.txt', '44.txt', '48.txt', '52.txt', '54.txt', '55.txt', '56.txt', '59.txt', '62.txt', '64.txt', '69.txt', '72.txt', '74.txt']\n"
     ]
    }
   ],
   "source": [
    "print(\"일반대화인데 일반대화로 분류된 파일: \", false_general_conversation_tmp)"
   ]
  },
  {
   "cell_type": "code",
   "execution_count": 47,
   "id": "45eca6fe",
   "metadata": {},
   "outputs": [
    {
     "name": "stdout",
     "output_type": "stream",
     "text": [
      "F1_score = 0.92\n"
     ]
    }
   ],
   "source": [
    "f1_score = (2*recall*precision) / (recall+precision)\n",
    "print(\"F1_score = \" + str(round(f1_score, 2)))"
   ]
  },
  {
   "cell_type": "code",
   "execution_count": null,
   "id": "05230fa8",
   "metadata": {},
   "outputs": [],
   "source": []
  }
 ],
 "metadata": {
  "kernelspec": {
   "display_name": "Python 3 (ipykernel)",
   "language": "python",
   "name": "python3"
  },
  "language_info": {
   "codemirror_mode": {
    "name": "ipython",
    "version": 3
   },
   "file_extension": ".py",
   "mimetype": "text/x-python",
   "name": "python",
   "nbconvert_exporter": "python",
   "pygments_lexer": "ipython3",
   "version": "3.9.16"
  }
 },
 "nbformat": 4,
 "nbformat_minor": 5
}
